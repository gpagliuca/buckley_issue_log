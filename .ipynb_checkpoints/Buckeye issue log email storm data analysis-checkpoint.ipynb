{
 "cells": [
  {
   "cell_type": "markdown",
   "metadata": {},
   "source": [
    "# Introduction and background"
   ]
  },
  {
   "cell_type": "markdown",
   "metadata": {},
   "source": [
    "In some occasions it can happen that a mailing list gets corrupted in Outlook, as a result of that a specific email to that corrupted list is spread throughout the full Company mailing list. This kink of event is somethimes also called *email storm*.   \n",
    "\n",
    "This analysis is related to the <i>Buckeye issue log</i> email storm happened on November 1st. The event was rather limited, at least compared to previous cases, and it was characterized by:\n",
    "\n",
    "* 152 *reply to all* emails\n",
    "* 146 unique senders (some replied more than once)\n",
    "* 142 unique reference indicators\n",
    "* limited time frame: about 1 hour(*)\n",
    "\n",
    "<i>(*) NOTE: This time frame is related to the sent time</i>\n",
    "\n",
    "A dataframe characterized by several variables has been extracted using the Outlook COM interface with python and pywin32. From the overall dataframe names and reference indicators have been excluded to anonymize data used for this analysis.\n",
    "\n",
    "Here under the first 5 observation of the resulting dataframe:"
   ]
  },
  {
   "cell_type": "markdown",
   "metadata": {},
   "source": [
    "![](./images/eda_head.png)"
   ]
  },
  {
   "cell_type": "markdown",
   "metadata": {
    "collapsed": true
   },
   "source": [
    "The dataframe consists of:\n",
    "\n",
    "* 153 rows (one per email/observation)\n",
    "* 6 columns/variables: Region, SentOn, ReceivedTime, LetterCount, Angriness and AngrinessBinned "
   ]
  },
  {
   "cell_type": "markdown",
   "metadata": {},
   "source": [
    "Some details on the variables:\n",
    "- The <b>Region</b> has been derived from the senders' contact card where the location is mentioned.\n",
    "- The SentOn and the ReceivedTimne are obtained directly from the Outlook COM interface and are related to central Europe time zone. The Dataframe has been ordered on the SentOn time.\n",
    "- The LetterCount is brutally the number of letters in the email body. It is not straightforward how to split the real email body from the rest, I have decided to consider everything before the first *From* or *Van* as the email body. This works but overestimates the letter count since it includes the signature (not always present).\n",
    "- The <b>Angriness</b> has been defined as the ratio between capital letters and the total amount of letters. It would be nice to extend/improve this definition using info from the email body such as the font size and color but unfortunately this info appears to be not easily accessible with the win32 client I used to parse the raw data.\n",
    "\n",
    "Finally The angriness continuous variable has been binned in the following groups:\n",
    "* Angriness below 0.3 --> <i>Not angry</i>\n",
    "* Angriness between 0.3 and 0.8 --> <i>Moderately angry</i>\n",
    "* Angriness above 0.8 --> <i>Angry</i>"
   ]
  },
  {
   "cell_type": "markdown",
   "metadata": {},
   "source": [
    "# Exploratory analysis"
   ]
  },
  {
   "cell_type": "markdown",
   "metadata": {},
   "source": [
    "Once a [tidy dataframe](https://en.wikipedia.org/wiki/Tidy_data) is ready we can perform an [exploratory data analysis](https://en.wikipedia.org/wiki/Exploratory_data_analysis) (aka EDA)."
   ]
  },
  {
   "cell_type": "markdown",
   "metadata": {},
   "source": [
    "An exploratory analysis tries to find patterns ans relationships in the data without performing any modeling or prediction.  \n",
    "It is crucial in an EDA to have in mind question(s) we would like to answer, here some:\n",
    "\n",
    "1. Did the email storm create issues to the email servers?\n",
    "2. Is there any relationship between the amount of emails sent/received in time and the angriness in the replies?\n",
    "3. It there any relationship between the number of typed letters and the angriness? \n",
    "4. Is the angriness affected  by the region?\n",
    "  \n",
    "Let's try to answer to those questions."
   ]
  },
  {
   "cell_type": "markdown",
   "metadata": {},
   "source": [
    "## Did the email storm create issues to the mail servers?"
   ]
  },
  {
   "cell_type": "markdown",
   "metadata": {},
   "source": [
    "<b>Figure 1</b> shows the evolution in time of the email count using the sent time as reference. For each email the travel time is also represented as an horizontal red segment. The longer the segment the longer the delay between the sent time and the received time. "
   ]
  },
  {
   "cell_type": "markdown",
   "metadata": {},
   "source": [
    "![](./images/eda_q1.png)\n",
    "<b>Figure 1 - Emails count in time and travel time per email (represented as an horizontal red segment)</b>"
   ]
  },
  {
   "cell_type": "markdown",
   "metadata": {},
   "source": [
    "The travel time appears to be not correlated to the sent time (it is strongly correlated to the received time, as expected). This can be seen in <b>Figure 2</b>:"
   ]
  },
  {
   "cell_type": "markdown",
   "metadata": {},
   "source": [
    "![](./images/eda_q1_2.png)\n",
    "<b>Figure 2 - Received or sent time in function of the travel time</b>"
   ]
  },
  {
   "cell_type": "markdown",
   "metadata": {},
   "source": [
    "In conclusion it appears the mail server(s) had quite some difficulties handling the huge amount of emails (order of magnitude ~ 10<sup>8</sup> emails) looking at the significant travel time. These difficulties were more or less constant throughout the event time frame considering that the travel time is not increasing in time."
   ]
  },
  {
   "cell_type": "markdown",
   "metadata": {},
   "source": [
    "## Email frequency and the angriness in the replies?"
   ]
  },
  {
   "cell_type": "markdown",
   "metadata": {},
   "source": [
    "In **Figure 3** the normalized email count is plotted together with the angriness in function of the sent time. It is quite evident that the angry replies have been written when most of the emails were sent. More emails flowing in, more frustration more probability to have one angry reply."
   ]
  },
  {
   "cell_type": "markdown",
   "metadata": {},
   "source": [
    "![](./images/eda_q2.png)\n",
    "**Figure 3 - Relative email count and angriness in function of the sent time**"
   ]
  },
  {
   "cell_type": "markdown",
   "metadata": {
    "collapsed": true
   },
   "source": [
    "## Typed letters and the angriness"
   ]
  },
  {
   "cell_type": "markdown",
   "metadata": {},
   "source": [
    "Assuming you want to write an angry reply, would you use a lot of letters?"
   ]
  },
  {
   "cell_type": "markdown",
   "metadata": {},
   "source": [
    "![](./images/eda_q3.png)\n",
    "**Figure 4 - Letter count versus angriness**"
   ]
  },
  {
   "cell_type": "markdown",
   "metadata": {},
   "source": [
    "Yes, indeed. That was not difficult to guess, if you are angry you type only a few words to express your frustration. "
   ]
  },
  {
   "cell_type": "markdown",
   "metadata": {},
   "source": [
    "## Angriness and regions"
   ]
  },
  {
   "cell_type": "markdown",
   "metadata": {},
   "source": [
    "And is the angriness correlated to the sender's region?"
   ]
  },
  {
   "cell_type": "markdown",
   "metadata": {},
   "source": [
    "![](./images/eda_q4.png)\n",
    "**Figure 5 - Angriness in function of the region**"
   ]
  },
  {
   "cell_type": "markdown",
   "metadata": {},
   "source": [
    "East people were more less prone to reply to all and they avoided any angry reply. It is worth here that during the 1st of November is was public holiday in some countries, and in particular in some big eastern countries. "
   ]
  },
  {
   "cell_type": "markdown",
   "metadata": {},
   "source": [
    "A split on the letter count (**Figure 6** and **Figure 7**) does not really add new insight:"
   ]
  },
  {
   "cell_type": "markdown",
   "metadata": {},
   "source": [
    "![](./images/eda_q4_2.png)\n",
    "**Figure 6 - Angriness in function of the region and letter count**"
   ]
  },
  {
   "cell_type": "markdown",
   "metadata": {},
   "source": [
    "![](./images/eda_q4_3.png)\n",
    "**Figure 7 - Angriness in function of the region and letter count**"
   ]
  },
  {
   "cell_type": "markdown",
   "metadata": {},
   "source": [
    "## EDA Conclusions"
   ]
  },
  {
   "cell_type": "markdown",
   "metadata": {},
   "source": [
    "![](./images/eda_conclusions.png)"
   ]
  }
 ],
 "metadata": {
  "kernelspec": {
   "display_name": "Python 3",
   "language": "python",
   "name": "python3"
  },
  "language_info": {
   "codemirror_mode": {
    "name": "ipython",
    "version": 3
   },
   "file_extension": ".py",
   "mimetype": "text/x-python",
   "name": "python",
   "nbconvert_exporter": "python",
   "pygments_lexer": "ipython3",
   "version": "3.6.3"
  },
  "toc": {
   "toc_cell": false,
   "toc_number_sections": true,
   "toc_threshold": 6,
   "toc_window_display": false
  }
 },
 "nbformat": 4,
 "nbformat_minor": 2
}
