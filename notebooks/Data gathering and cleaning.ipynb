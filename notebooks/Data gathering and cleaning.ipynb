{
 "cells": [
  {
   "cell_type": "code",
   "execution_count": 1,
   "metadata": {},
   "outputs": [],
   "source": [
    "import os\n",
    "import re\n",
    "from datetime import datetime\n",
    "import win32com.client"
   ]
  },
  {
   "cell_type": "code",
   "execution_count": 2,
   "metadata": {},
   "outputs": [],
   "source": [
    "# Constants\n",
    "Emea = ['AMS', 'RIJ-KES', 'PHC', 'MOW-SPD', 'HAG-C16', 'LON-BS', 'LON-STR', 'NOR', 'DPK' ,\n",
    "        'KRW-DOT', 'HAG', 'TUN-IDL', 'CAI-NCC', 'LSA-GIB', 'SFX-GUB', 'IGS-KOS',\n",
    "        'DUB-CNF', 'KRW', 'LSA-NRC', 'LAG', 'LON-SC', 'ASS', 'GTY-AME', 'HAM-GRW', 'BRY', \n",
    "        'QAT-RLC', 'IST', 'LSA-COR', 'PFN-CLI', 'DOH-COR']\n",
    "\n",
    "East = ['MLA-DEL', 'PER', 'BNG-ECO', 'SGP-PBU', 'CAP', 'CHN-RMZ', 'MUM-BHO', 'BNG-ACC', \n",
    "        'BNG-LOG', 'KOT-KOB', 'BRR-CMP', 'BAN', 'HCM']\n",
    "\n",
    "Americas = ['HOU-OTM', 'HOU-EPC', 'HOU-EPC', 'CAF-MZR', 'MTZ', 'RIO-SED', 'HOU-WTC', 'JPD-GAS',\n",
    "            'HOU-WTC', 'PFN-CLI', 'BUE-C', 'RIO-VEN', 'LPZ', 'PFN-CLI', 'TEX-HLP', 'SCZ', \n",
    "            'CAF-SDG', 'NRC', 'MCA', 'GEP', 'GB128', 'MIC-MCT', 'SCT-UPG']\n",
    "\n",
    "emails_path = '../data/emails/'\n",
    "os.chdir(os.path.abspath(emails_path))"
   ]
  },
  {
   "cell_type": "code",
   "execution_count": 7,
   "metadata": {},
   "outputs": [],
   "source": [
    "# Functions\n",
    "def region(city):\n",
    "    if city in Emea:\n",
    "        return \"Emea\"\n",
    "    if city in East:\n",
    "        return \"East\"\n",
    "    if city in Americas:\n",
    "        return \"Americas\"\n",
    "\n",
    "def parse_body(raw_body_text):\n",
    "    clean_body_text = raw_body_text.replace(\"\\r\", '').replace(\"\\n\", '')\n",
    "    return clean_body_text\n",
    "\n",
    "def find_location(search_string):\n",
    "    outlook = win32com.client.gencache.EnsureDispatch('Outlook.Application')\n",
    "    recipient = outlook.Session.CreateRecipient(search_string)\n",
    "    recipient.Resolve()\n",
    "    location = recipient.AddressEntry.GetExchangeUser().City\n",
    "    return location\n",
    "    \n",
    "def data_extraction(msg):\n",
    "    outlook = win32com.client.Dispatch(\"Outlook.Application\").GetNamespace(\"MAPI\")\n",
    "    fobj = outlook.OpenSharedItem(os.path.abspath(msg))\n",
    "    data = {}\n",
    "    data['Sender'] = \" \".join(fobj.SenderName.split(' ')[:-1])\n",
    "    try:\n",
    "        data['Location'] = find_location(fobj.SenderName)\n",
    "    except:\n",
    "        data['Location'] = np.nan\n",
    "    data['Region'] = region(data['Location'])\n",
    "    data['RefIndicator'] = fobj.SenderName.split(' ')[-1]\n",
    "    data['SentOn'] = fobj.SentOn\n",
    "    data['ReceivedTime'] = fobj.ReceivedTime\n",
    "    if \"Von\" in fobj.Body:\n",
    "        raw_body = fobj.Body.split(\"Von\")[0]\n",
    "    if \"From\" in fobj.Body:\n",
    "        raw_body = fobj.Body.split(\"From\")[0]\n",
    "    else:\n",
    "        raw_body = fobj.Body\n",
    "    clean_body = parse_body(raw_body)\n",
    "    data['body'] = clean_body\n",
    "    data[\"word_count\"] = len(re.findall(\"[\\w]+\\'*[\\w]*\", data['body']))\n",
    "    upper_letters = len(re.findall(\"[A-Z]\", data['body']))\n",
    "    lower_letters = len(re.findall(\"[a-z]\", data['body']))\n",
    "    try:\n",
    "        data['angriness'] = upper_letters/(upper_letters + lower_letters)\n",
    "    except ZeroDivisionError:\n",
    "        data['angriness'] = np.nan\n",
    "    del outlook, fobj\n",
    "    return data"
   ]
  },
  {
   "cell_type": "code",
   "execution_count": 9,
   "metadata": {
    "scrolled": false
   },
   "outputs": [],
   "source": [
    "## Parsing of the raw data\n",
    "\n",
    "messages = [msg for msg in os.listdir() if msg.endswith(\"msg\")]\n",
    "csv_data = pd.DataFrame()\n",
    "\n",
    "for idx, message in enumerate(messages):\n",
    "    csv_data[idx] = data_extraction(message).values()\n",
    "    \n",
    "csv_data = csv_data.T\n",
    "csv_data.columns = (\"Sender\", \"Location\", \"Region\", \"RefIndicator\", \"SentOn\", \n",
    "                    \"ReceivedTime\", \"Body\", \"LetterCount\", \"Angriness\")\n",
    "csv_data = csv_data.sort_values(\"SentOn\")\n",
    "csv_data.reset_index(drop=True, inplace=True)\n",
    "csv_data.to_csv(\"../Buckeye_issue_log_dataset.csv\")"
   ]
  },
  {
   "cell_type": "code",
   "execution_count": 10,
   "metadata": {},
   "outputs": [],
   "source": [
    "df_anonymized = csv_data.drop('Sender', axis=1)\n",
    "df_anonymized = df_anonymized.drop('Location', axis=1)\n",
    "df_anonymized = df_anonymized.drop(\"RefIndicator\", axis=1)\n",
    "df_anonymized = df_anonymized.drop(\"Body\", axis=1)\n",
    "df_anonymized.to_csv(\"../Anonymized_Buckeye_issue_log_dataset.csv\")"
   ]
  },
  {
   "cell_type": "markdown",
   "metadata": {},
   "source": [
    "---"
   ]
  }
 ],
 "metadata": {
  "kernelspec": {
   "display_name": "Python 3",
   "language": "python",
   "name": "python3"
  },
  "language_info": {
   "codemirror_mode": {
    "name": "ipython",
    "version": 3
   },
   "file_extension": ".py",
   "mimetype": "text/x-python",
   "name": "python",
   "nbconvert_exporter": "python",
   "pygments_lexer": "ipython3",
   "version": "3.6.3"
  },
  "toc": {
   "toc_cell": false,
   "toc_number_sections": true,
   "toc_threshold": 6,
   "toc_window_display": false
  }
 },
 "nbformat": 4,
 "nbformat_minor": 2
}
